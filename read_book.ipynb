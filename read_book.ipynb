{
 "cells": [
  {
   "cell_type": "code",
   "execution_count": null,
   "id": "nearby-usage",
   "metadata": {},
   "outputs": [],
   "source": [
    "import ipywidgets as widgets\n",
    "import pandas as pd"
   ]
  },
  {
   "cell_type": "code",
   "execution_count": null,
   "id": "actual-portrait",
   "metadata": {},
   "outputs": [],
   "source": [
    "class Book():\n",
    "    def __init__(self, path):\n",
    "        self.pages = []\n",
    "        df = pd.read_csv(path)\n",
    "        \n",
    "        page = []\n",
    "        page_height = 0\n",
    "        \n",
    "        for _, row in df.iterrows():\n",
    "            if page_height > 20:\n",
    "                self.pages.append(page)\n",
    "                page = []\n",
    "                page_height = 0\n",
    "            \n",
    "            page_height += 1 if row.word == \"\\n\" else len(row.word) / 100\n",
    "            page.append(row)\n",
    "        \n",
    "        self.pages.append(page)\n",
    "        \n",
    "    def print_page(self, page_num, percentile):\n",
    "        result = []\n",
    "\n",
    "        for word in self.pages[page_num - 1]:\n",
    "            if int(word.percentile) <= percentile:\n",
    "                result.append(\"\\033[96m\" + word.word + \"\\033[0m\")\n",
    "            else:\n",
    "                result.append(word.translation)\n",
    "\n",
    "        print(\"\".join(result))"
   ]
  },
  {
   "cell_type": "code",
   "execution_count": null,
   "id": "independent-theology",
   "metadata": {},
   "outputs": [],
   "source": [
    "book = Book(\"fr/out/le_petit_prince.csv\")\n",
    "\n",
    "def back_widget_fn(b):\n",
    "    page_widget.value = max(page_widget.value - 1, 1)\n",
    "\n",
    "def next_widget_fn(b):\n",
    "    page_widget.value = min(page_widget.value + 1, len(book.pages))\n",
    "\n",
    "# To go backwards and forwards on pages.\n",
    "back_widget = widgets.Button(description='Back', icon='arrow-left')\n",
    "next_widget = widgets.Button(description='Next', icon='arrow-right')\n",
    "back_widget.on_click(back_widget_fn)\n",
    "next_widget.on_click(next_widget_fn)\n",
    "\n",
    "# To display the current page and allow page teleportation.\n",
    "page_widget = widgets.BoundedIntText(description='Page:', value=1, min=1, max=len(book.pages))\n",
    "page_widget.layout = widgets.Layout(width='200px')\n",
    "\n",
    "# \"0\" is entirely english, and \"100\" is entirely the foreign language.\n",
    "slider = widgets.IntSlider(value=0, min=0, max=100, description='Difficulty:')\n",
    "\n",
    "# Finally, the display.\n",
    "out = widgets.interactive_output(book.print_page, {'page_num': page_widget, 'percentile': slider})\n",
    "widgets.VBox([out, widgets.HBox([back_widget, next_widget, page_widget, slider])])"
   ]
  },
  {
   "cell_type": "code",
   "execution_count": null,
   "id": "offensive-stick",
   "metadata": {},
   "outputs": [],
   "source": []
  }
 ],
 "metadata": {
  "kernelspec": {
   "display_name": "Python 3",
   "language": "python",
   "name": "python3"
  },
  "language_info": {
   "codemirror_mode": {
    "name": "ipython",
    "version": 3
   },
   "file_extension": ".py",
   "mimetype": "text/x-python",
   "name": "python",
   "nbconvert_exporter": "python",
   "pygments_lexer": "ipython3",
   "version": "3.8.2"
  }
 },
 "nbformat": 4,
 "nbformat_minor": 5
}
